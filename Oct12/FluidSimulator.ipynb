{
 "cells": [
  {
   "cell_type": "markdown",
   "metadata": {},
   "source": [
    "## A fluid simulator for flow between tanks\n",
    "\n",
    "Uses the `FluidSim.py` module"
   ]
  },
  {
   "cell_type": "code",
   "execution_count": null,
   "metadata": {},
   "outputs": [],
   "source": [
    "import FluidSim as fs\n",
    "\n",
    "\n",
    "water = fs.Fluid(1000, 0.001)\n",
    "tank1 = fs.Tank(10, 10, water, 8, 0, 2)\n",
    "tank2 = fs.Tank(20, 5, water, 0, 8, 0)\n",
    "pipe = fs.Pipe(100, 2, water)\n",
    "\n",
    "\n",
    "## next steps\n",
    "# 1 -- create a time loop\n",
    "# 2 -- calculate flow rate at each time step\n",
    "# 3 -- tank heights and flows rates vs time (which plotted)"
   ]
  }
 ],
 "metadata": {
  "language_info": {
   "name": "python"
  },
  "orig_nbformat": 4
 },
 "nbformat": 4,
 "nbformat_minor": 2
}
