{
 "cells": [
  {
   "cell_type": "markdown",
   "metadata": {},
   "source": [
    "## ENDG 310\n",
    "### Sept 12 Lecture\n",
    "\n",
    "**Objectives**\n",
    "- Opening and reading files\n",
    "- Loading data\n",
    "- Simple plots of the data"
   ]
  },
  {
   "cell_type": "markdown",
   "metadata": {},
   "source": [
    "### Opening and reading files"
   ]
  },
  {
   "cell_type": "code",
   "execution_count": 1,
   "metadata": {},
   "outputs": [],
   "source": [
    "\"\"\"\n",
    "Create a handle to the file\n",
    "\n",
    "Ensure that a file named 'textdata.txt' exists in the current directory, \n",
    "    otherwise an error will be thrown.\n",
    "\"\"\"\n",
    "\n",
    "fileh = open('textdata.txt', 'r')"
   ]
  },
  {
   "cell_type": "markdown",
   "metadata": {},
   "source": [
    "The `fileh` variable now has a pointer to the file."
   ]
  },
  {
   "cell_type": "code",
   "execution_count": 2,
   "metadata": {},
   "outputs": [
    {
     "data": {
      "text/plain": [
       "<_io.TextIOWrapper name='textdata.txt' mode='r' encoding='UTF-8'>"
      ]
     },
     "execution_count": 2,
     "metadata": {},
     "output_type": "execute_result"
    }
   ],
   "source": [
    "fileh"
   ]
  },
  {
   "cell_type": "code",
   "execution_count": 3,
   "metadata": {},
   "outputs": [
    {
     "data": {
      "text/plain": [
       "'This is a text file\\n\\nAnd it has a list\\n- item 1\\n- item 2\\n- item 3\\n\\nAnd some more data'"
      ]
     },
     "execution_count": 3,
     "metadata": {},
     "output_type": "execute_result"
    }
   ],
   "source": [
    "# read() will read the entire file\n",
    "\n",
    "fileh.read()"
   ]
  },
  {
   "cell_type": "code",
   "execution_count": 4,
   "metadata": {},
   "outputs": [
    {
     "data": {
      "text/plain": [
       "''"
      ]
     },
     "execution_count": 4,
     "metadata": {},
     "output_type": "execute_result"
    }
   ],
   "source": [
    "# After a file has been read, there is no more to read, so calling read() a \n",
    "# second time will return nothing.\n",
    "\n",
    "fileh.read()"
   ]
  },
  {
   "cell_type": "code",
   "execution_count": 5,
   "metadata": {},
   "outputs": [],
   "source": [
    "# A file handle always has to be closed!\n",
    "\n",
    "fileh.close()"
   ]
  },
  {
   "cell_type": "markdown",
   "metadata": {},
   "source": [
    "Using the `with` keyword automates the file closing.  Once the code inside the `with` is finished executing, `close()` will automatically be called."
   ]
  },
  {
   "cell_type": "code",
   "execution_count": 6,
   "metadata": {},
   "outputs": [
    {
     "name": "stdout",
     "output_type": "stream",
     "text": [
      "This is a text file\n",
      "\n",
      "And it has a list\n",
      "- item 1\n",
      "- item 2\n",
      "- item 3\n",
      "\n",
      "And some more data\n"
     ]
    }
   ],
   "source": [
    "\n",
    "with open('textdata.txt', 'r') as file:\n",
    "    print(file.read())\n",
    "    "
   ]
  },
  {
   "cell_type": "markdown",
   "metadata": {},
   "source": [
    "## Opening csv files.\n",
    "\n",
    "The first method to open a `csv` file is as a file and then processing it manually."
   ]
  },
  {
   "cell_type": "code",
   "execution_count": 7,
   "metadata": {},
   "outputs": [
    {
     "name": "stdout",
     "output_type": "stream",
     "text": [
      "\"Longitude (x)\",\"Latitude (y)\",\"Station Name\",\"Climate ID\",\"Date/Time (LST)\",\"Year\",\"Month\",\"Day\",\"Time (LST)\",\"Temp (°C)\",\"Temp Flag\",\"Dew Point Temp (°C)\",\"Dew Point Temp Flag\",\"Rel Hum (%)\",\"Rel Hum Flag\",\"Precip. Amount (mm)\",\"Precip. Amount Flag\",\"Wind Dir (10s deg)\",\"Wind Dir Flag\",\"Wind Spd (km/h)\",\"Wind Spd Flag\",\"Visibility (km)\",\"Visibility Flag\",\"Stn Press (kPa)\",\"Stn Press Flag\",\"Hmdx\",\"Hmdx Flag\",\"Wind Chill\",\"Wind Chill Flag\",\"Weather\"\n",
      "\n",
      "\"-114.00\",\"51.11\",\"CALGARY INT'L CS\",\"3031094\",\"2023-09-01 00:00\",\"2023\",\"09\",\"01\",\"00:00\",\"15.8\",\"\",\"10.3\",\"\",\"70\",\"\",\"0.0\",\"\",\"35\",\"\",\"12\",\"\",\"\",\"\",\"88.86\",\"\",\"\",\"\",\"\",\"\",\"NA\"\n",
      "\n",
      "\"-114.00\",\"51.11\",\"CALGARY INT'L CS\",\"3031094\",\"2023-09-01 01:00\",\"2023\",\"09\",\"01\",\"01:00\",\"14.9\",\"\",\"9.6\",\"\",\"71\",\"\",\"0.0\",\"\",\"34\",\"\",\"10\",\"\",\"\",\"\",\"88.91\",\"\",\"\",\"\",\"\",\"\",\"NA\"\n",
      "\n",
      "\"-114.00\",\"51.11\",\"CALGARY INT'L CS\",\"3031094\",\"2023-09-01 02:00\",\"2023\",\"09\",\"01\",\"02:00\",\"13.9\",\"\",\"10.5\",\"\",\"80\",\"\",\"0.0\",\"\",\"30\",\"\",\"8\",\"\",\"\",\"\",\"88.95\",\"\",\"\",\"\",\"\",\"\",\"NA\"\n",
      "\n",
      "\"-114.00\",\"51.11\",\"CALGARY INT'L CS\",\"3031094\",\"2023-09-01 03:00\",\"2023\",\"09\",\"01\",\"03:00\",\"14.2\",\"\",\"9.4\",\"\",\"73\",\"\",\"0.0\",\"\",\"31\",\"\",\"13\",\"\",\"\",\"\",\"88.95\",\"\",\"\",\"\",\"\",\"\",\"NA\"\n",
      "\n",
      "\"-114.00\",\"51.11\",\"CALGARY INT'L CS\",\"3031094\",\"2023-09-01 04:00\",\"2023\",\"09\",\"01\",\"04:00\",\"13.9\",\"\",\"9.5\",\"\",\"75\",\"\",\"0.0\",\"\",\"32\",\"\",\"9\",\"\",\"\",\"\",\"89.00\",\"\",\"\",\"\",\"\",\"\",\"NA\"\n",
      "\n",
      "\"-114.00\",\"51.11\",\"CALGARY INT'L CS\",\"3031094\",\"2023-09-01 05:00\",\"2023\",\"09\",\"01\",\"05:00\",\"13.9\",\"\",\"9.7\",\"\",\"76\",\"\",\"0.0\",\"\",\"33\",\"\",\"13\",\"\",\"\",\"\",\"89.03\",\"\",\"\",\"\",\"\",\"\",\"NA\"\n",
      "\n",
      "\"-114.00\",\"51.11\",\"CALGARY INT'L CS\",\"3031094\",\"2023-09-01 06:00\",\"2023\",\"09\",\"01\",\"06:00\",\"13.9\",\"\",\"9.9\",\"\",\"77\",\"\",\"0.0\",\"\",\"29\",\"\",\"8\",\"\",\"\",\"\",\"89.07\",\"\",\"\",\"\",\"\",\"\",\"NA\"\n",
      "\n",
      "\"-114.00\",\"51.11\",\"CALGARY INT'L CS\",\"3031094\",\"2023-09-01 07:00\",\"2023\",\"09\",\"01\",\"07:00\",\"14.1\",\"\",\"10.5\",\"\",\"79\",\"\",\"0.0\",\"\",\"30\",\"\",\"9\",\"\",\"\",\"\",\"89.08\",\"\",\"\",\"\",\"\",\"\",\"NA\"\n",
      "\n",
      "\"-114.00\",\"51.11\",\"CALGARY INT'L CS\",\"3031094\",\"2023-09-01 08:00\",\"2023\",\"09\",\"01\",\"08:00\",\"15.6\",\"\",\"9.8\",\"\",\"68\",\"\",\"0.0\",\"\",\"33\",\"\",\"11\",\"\",\"\",\"\",\"89.13\",\"\",\"\",\"\",\"\",\"\",\"NA\"\n",
      "\n"
     ]
    }
   ],
   "source": [
    "# Let's open a csv file and print the first 10 lines\n",
    "with open('en_climate_hourly_AB_3031094_09-2023_P1H.csv', 'r') as file:\n",
    "    for i in range(10):\n",
    "        print(file.readline())"
   ]
  },
  {
   "cell_type": "markdown",
   "metadata": {},
   "source": [
    "To use this data:\n",
    "- read each line\n",
    "- split on the ','\n",
    "- convert each value to a string, integer, float, etc\n",
    "- assemble these into arrays\n",
    "\n",
    "\n",
    "This sounds cumbersone.  There are libraries we can use to do this for us.  `numpy` and `pandas` both have the ability to read `csv` files."
   ]
  },
  {
   "cell_type": "code",
   "execution_count": 8,
   "metadata": {},
   "outputs": [
    {
     "ename": "ValueError",
     "evalue": "Some errors were detected !\n    Line #266 (got 9 columns instead of 30)\n    Line #267 (got 9 columns instead of 30)\n    Line #268 (got 9 columns instead of 30)\n    Line #269 (got 9 columns instead of 30)\n    Line #270 (got 9 columns instead of 30)\n    Line #271 (got 9 columns instead of 30)\n    Line #272 (got 9 columns instead of 30)\n    Line #273 (got 9 columns instead of 30)\n    Line #274 (got 9 columns instead of 30)\n    Line #275 (got 9 columns instead of 30)\n    Line #276 (got 9 columns instead of 30)\n    Line #277 (got 9 columns instead of 30)\n    Line #278 (got 9 columns instead of 30)\n    Line #279 (got 9 columns instead of 30)\n    Line #280 (got 9 columns instead of 30)\n    Line #281 (got 9 columns instead of 30)\n    Line #282 (got 9 columns instead of 30)\n    Line #283 (got 9 columns instead of 30)\n    Line #284 (got 9 columns instead of 30)\n    Line #285 (got 9 columns instead of 30)\n    Line #286 (got 9 columns instead of 30)\n    Line #287 (got 9 columns instead of 30)\n    Line #288 (got 9 columns instead of 30)\n    Line #289 (got 9 columns instead of 30)\n    Line #290 (got 9 columns instead of 30)\n    Line #291 (got 9 columns instead of 30)\n    Line #292 (got 9 columns instead of 30)\n    Line #293 (got 9 columns instead of 30)\n    Line #294 (got 9 columns instead of 30)\n    Line #295 (got 9 columns instead of 30)\n    Line #296 (got 9 columns instead of 30)\n    Line #297 (got 9 columns instead of 30)\n    Line #298 (got 9 columns instead of 30)\n    Line #299 (got 9 columns instead of 30)\n    Line #300 (got 9 columns instead of 30)\n    Line #301 (got 9 columns instead of 30)\n    Line #302 (got 9 columns instead of 30)\n    Line #303 (got 9 columns instead of 30)\n    Line #304 (got 9 columns instead of 30)\n    Line #305 (got 9 columns instead of 30)\n    Line #306 (got 9 columns instead of 30)\n    Line #307 (got 9 columns instead of 30)\n    Line #308 (got 9 columns instead of 30)\n    Line #309 (got 9 columns instead of 30)\n    Line #310 (got 9 columns instead of 30)\n    Line #311 (got 9 columns instead of 30)\n    Line #312 (got 9 columns instead of 30)\n    Line #313 (got 9 columns instead of 30)\n    Line #314 (got 9 columns instead of 30)\n    Line #315 (got 9 columns instead of 30)\n    Line #316 (got 9 columns instead of 30)\n    Line #317 (got 9 columns instead of 30)\n    Line #318 (got 9 columns instead of 30)\n    Line #319 (got 9 columns instead of 30)\n    Line #320 (got 9 columns instead of 30)\n    Line #321 (got 9 columns instead of 30)\n    Line #322 (got 9 columns instead of 30)\n    Line #323 (got 9 columns instead of 30)\n    Line #324 (got 9 columns instead of 30)\n    Line #325 (got 9 columns instead of 30)\n    Line #326 (got 9 columns instead of 30)\n    Line #327 (got 9 columns instead of 30)\n    Line #328 (got 9 columns instead of 30)\n    Line #329 (got 9 columns instead of 30)\n    Line #330 (got 9 columns instead of 30)\n    Line #331 (got 9 columns instead of 30)\n    Line #332 (got 9 columns instead of 30)\n    Line #333 (got 9 columns instead of 30)\n    Line #334 (got 9 columns instead of 30)\n    Line #335 (got 9 columns instead of 30)\n    Line #336 (got 9 columns instead of 30)\n    Line #337 (got 9 columns instead of 30)\n    Line #338 (got 9 columns instead of 30)\n    Line #339 (got 9 columns instead of 30)\n    Line #340 (got 9 columns instead of 30)\n    Line #341 (got 9 columns instead of 30)\n    Line #342 (got 9 columns instead of 30)\n    Line #343 (got 9 columns instead of 30)\n    Line #344 (got 9 columns instead of 30)\n    Line #345 (got 9 columns instead of 30)\n    Line #346 (got 9 columns instead of 30)\n    Line #347 (got 9 columns instead of 30)\n    Line #348 (got 9 columns instead of 30)\n    Line #349 (got 9 columns instead of 30)\n    Line #350 (got 9 columns instead of 30)\n    Line #351 (got 9 columns instead of 30)\n    Line #352 (got 9 columns instead of 30)\n    Line #353 (got 9 columns instead of 30)\n    Line #354 (got 9 columns instead of 30)\n    Line #355 (got 9 columns instead of 30)\n    Line #356 (got 9 columns instead of 30)\n    Line #357 (got 9 columns instead of 30)\n    Line #358 (got 9 columns instead of 30)\n    Line #359 (got 9 columns instead of 30)\n    Line #360 (got 9 columns instead of 30)\n    Line #361 (got 9 columns instead of 30)\n    Line #362 (got 9 columns instead of 30)\n    Line #363 (got 9 columns instead of 30)\n    Line #364 (got 9 columns instead of 30)\n    Line #365 (got 9 columns instead of 30)\n    Line #366 (got 9 columns instead of 30)\n    Line #367 (got 9 columns instead of 30)\n    Line #368 (got 9 columns instead of 30)\n    Line #369 (got 9 columns instead of 30)\n    Line #370 (got 9 columns instead of 30)\n    Line #371 (got 9 columns instead of 30)\n    Line #372 (got 9 columns instead of 30)\n    Line #373 (got 9 columns instead of 30)\n    Line #374 (got 9 columns instead of 30)\n    Line #375 (got 9 columns instead of 30)\n    Line #376 (got 9 columns instead of 30)\n    Line #377 (got 9 columns instead of 30)\n    Line #378 (got 9 columns instead of 30)\n    Line #379 (got 9 columns instead of 30)\n    Line #380 (got 9 columns instead of 30)\n    Line #381 (got 9 columns instead of 30)\n    Line #382 (got 9 columns instead of 30)\n    Line #383 (got 9 columns instead of 30)\n    Line #384 (got 9 columns instead of 30)\n    Line #385 (got 9 columns instead of 30)\n    Line #386 (got 9 columns instead of 30)\n    Line #387 (got 9 columns instead of 30)\n    Line #388 (got 9 columns instead of 30)\n    Line #389 (got 9 columns instead of 30)\n    Line #390 (got 9 columns instead of 30)\n    Line #391 (got 9 columns instead of 30)\n    Line #392 (got 9 columns instead of 30)\n    Line #393 (got 9 columns instead of 30)\n    Line #394 (got 9 columns instead of 30)\n    Line #395 (got 9 columns instead of 30)\n    Line #396 (got 9 columns instead of 30)\n    Line #397 (got 9 columns instead of 30)\n    Line #398 (got 9 columns instead of 30)\n    Line #399 (got 9 columns instead of 30)\n    Line #400 (got 9 columns instead of 30)\n    Line #401 (got 9 columns instead of 30)\n    Line #402 (got 9 columns instead of 30)\n    Line #403 (got 9 columns instead of 30)\n    Line #404 (got 9 columns instead of 30)\n    Line #405 (got 9 columns instead of 30)\n    Line #406 (got 9 columns instead of 30)\n    Line #407 (got 9 columns instead of 30)\n    Line #408 (got 9 columns instead of 30)\n    Line #409 (got 9 columns instead of 30)\n    Line #410 (got 9 columns instead of 30)\n    Line #411 (got 9 columns instead of 30)\n    Line #412 (got 9 columns instead of 30)\n    Line #413 (got 9 columns instead of 30)\n    Line #414 (got 9 columns instead of 30)\n    Line #415 (got 9 columns instead of 30)\n    Line #416 (got 9 columns instead of 30)\n    Line #417 (got 9 columns instead of 30)\n    Line #418 (got 9 columns instead of 30)\n    Line #419 (got 9 columns instead of 30)\n    Line #420 (got 9 columns instead of 30)\n    Line #421 (got 9 columns instead of 30)\n    Line #422 (got 9 columns instead of 30)\n    Line #423 (got 9 columns instead of 30)\n    Line #424 (got 9 columns instead of 30)\n    Line #425 (got 9 columns instead of 30)\n    Line #426 (got 9 columns instead of 30)\n    Line #427 (got 9 columns instead of 30)\n    Line #428 (got 9 columns instead of 30)\n    Line #429 (got 9 columns instead of 30)\n    Line #430 (got 9 columns instead of 30)\n    Line #431 (got 9 columns instead of 30)\n    Line #432 (got 9 columns instead of 30)\n    Line #433 (got 9 columns instead of 30)\n    Line #434 (got 9 columns instead of 30)\n    Line #435 (got 9 columns instead of 30)\n    Line #436 (got 9 columns instead of 30)\n    Line #437 (got 9 columns instead of 30)\n    Line #438 (got 9 columns instead of 30)\n    Line #439 (got 9 columns instead of 30)\n    Line #440 (got 9 columns instead of 30)\n    Line #441 (got 9 columns instead of 30)\n    Line #442 (got 9 columns instead of 30)\n    Line #443 (got 9 columns instead of 30)\n    Line #444 (got 9 columns instead of 30)\n    Line #445 (got 9 columns instead of 30)\n    Line #446 (got 9 columns instead of 30)\n    Line #447 (got 9 columns instead of 30)\n    Line #448 (got 9 columns instead of 30)\n    Line #449 (got 9 columns instead of 30)\n    Line #450 (got 9 columns instead of 30)\n    Line #451 (got 9 columns instead of 30)\n    Line #452 (got 9 columns instead of 30)\n    Line #453 (got 9 columns instead of 30)\n    Line #454 (got 9 columns instead of 30)\n    Line #455 (got 9 columns instead of 30)\n    Line #456 (got 9 columns instead of 30)\n    Line #457 (got 9 columns instead of 30)\n    Line #458 (got 9 columns instead of 30)\n    Line #459 (got 9 columns instead of 30)\n    Line #460 (got 9 columns instead of 30)\n    Line #461 (got 9 columns instead of 30)\n    Line #462 (got 9 columns instead of 30)\n    Line #463 (got 9 columns instead of 30)\n    Line #464 (got 9 columns instead of 30)\n    Line #465 (got 9 columns instead of 30)\n    Line #466 (got 9 columns instead of 30)\n    Line #467 (got 9 columns instead of 30)\n    Line #468 (got 9 columns instead of 30)\n    Line #469 (got 9 columns instead of 30)\n    Line #470 (got 9 columns instead of 30)\n    Line #471 (got 9 columns instead of 30)\n    Line #472 (got 9 columns instead of 30)\n    Line #473 (got 9 columns instead of 30)\n    Line #474 (got 9 columns instead of 30)\n    Line #475 (got 9 columns instead of 30)\n    Line #476 (got 9 columns instead of 30)\n    Line #477 (got 9 columns instead of 30)\n    Line #478 (got 9 columns instead of 30)\n    Line #479 (got 9 columns instead of 30)\n    Line #480 (got 9 columns instead of 30)\n    Line #481 (got 9 columns instead of 30)\n    Line #482 (got 9 columns instead of 30)\n    Line #483 (got 9 columns instead of 30)\n    Line #484 (got 9 columns instead of 30)\n    Line #485 (got 9 columns instead of 30)\n    Line #486 (got 9 columns instead of 30)\n    Line #487 (got 9 columns instead of 30)\n    Line #488 (got 9 columns instead of 30)\n    Line #489 (got 9 columns instead of 30)\n    Line #490 (got 9 columns instead of 30)\n    Line #491 (got 9 columns instead of 30)\n    Line #492 (got 9 columns instead of 30)\n    Line #493 (got 9 columns instead of 30)\n    Line #494 (got 9 columns instead of 30)\n    Line #495 (got 9 columns instead of 30)\n    Line #496 (got 9 columns instead of 30)\n    Line #497 (got 9 columns instead of 30)\n    Line #498 (got 9 columns instead of 30)\n    Line #499 (got 9 columns instead of 30)\n    Line #500 (got 9 columns instead of 30)\n    Line #501 (got 9 columns instead of 30)\n    Line #502 (got 9 columns instead of 30)\n    Line #503 (got 9 columns instead of 30)\n    Line #504 (got 9 columns instead of 30)\n    Line #505 (got 9 columns instead of 30)\n    Line #506 (got 9 columns instead of 30)\n    Line #507 (got 9 columns instead of 30)\n    Line #508 (got 9 columns instead of 30)\n    Line #509 (got 9 columns instead of 30)\n    Line #510 (got 9 columns instead of 30)\n    Line #511 (got 9 columns instead of 30)\n    Line #512 (got 9 columns instead of 30)\n    Line #513 (got 9 columns instead of 30)\n    Line #514 (got 9 columns instead of 30)\n    Line #515 (got 9 columns instead of 30)\n    Line #516 (got 9 columns instead of 30)\n    Line #517 (got 9 columns instead of 30)\n    Line #518 (got 9 columns instead of 30)\n    Line #519 (got 9 columns instead of 30)\n    Line #520 (got 9 columns instead of 30)\n    Line #521 (got 9 columns instead of 30)\n    Line #522 (got 9 columns instead of 30)\n    Line #523 (got 9 columns instead of 30)\n    Line #524 (got 9 columns instead of 30)\n    Line #525 (got 9 columns instead of 30)\n    Line #526 (got 9 columns instead of 30)\n    Line #527 (got 9 columns instead of 30)\n    Line #528 (got 9 columns instead of 30)\n    Line #529 (got 9 columns instead of 30)\n    Line #530 (got 9 columns instead of 30)\n    Line #531 (got 9 columns instead of 30)\n    Line #532 (got 9 columns instead of 30)\n    Line #533 (got 9 columns instead of 30)\n    Line #534 (got 9 columns instead of 30)\n    Line #535 (got 9 columns instead of 30)\n    Line #536 (got 9 columns instead of 30)\n    Line #537 (got 9 columns instead of 30)\n    Line #538 (got 9 columns instead of 30)\n    Line #539 (got 9 columns instead of 30)\n    Line #540 (got 9 columns instead of 30)\n    Line #541 (got 9 columns instead of 30)\n    Line #542 (got 9 columns instead of 30)\n    Line #543 (got 9 columns instead of 30)\n    Line #544 (got 9 columns instead of 30)\n    Line #545 (got 9 columns instead of 30)\n    Line #546 (got 9 columns instead of 30)\n    Line #547 (got 9 columns instead of 30)\n    Line #548 (got 9 columns instead of 30)\n    Line #549 (got 9 columns instead of 30)\n    Line #550 (got 9 columns instead of 30)\n    Line #551 (got 9 columns instead of 30)\n    Line #552 (got 9 columns instead of 30)\n    Line #553 (got 9 columns instead of 30)\n    Line #554 (got 9 columns instead of 30)\n    Line #555 (got 9 columns instead of 30)\n    Line #556 (got 9 columns instead of 30)\n    Line #557 (got 9 columns instead of 30)\n    Line #558 (got 9 columns instead of 30)\n    Line #559 (got 9 columns instead of 30)\n    Line #560 (got 9 columns instead of 30)\n    Line #561 (got 9 columns instead of 30)\n    Line #562 (got 9 columns instead of 30)\n    Line #563 (got 9 columns instead of 30)\n    Line #564 (got 9 columns instead of 30)\n    Line #565 (got 9 columns instead of 30)\n    Line #566 (got 9 columns instead of 30)\n    Line #567 (got 9 columns instead of 30)\n    Line #568 (got 9 columns instead of 30)\n    Line #569 (got 9 columns instead of 30)\n    Line #570 (got 9 columns instead of 30)\n    Line #571 (got 9 columns instead of 30)\n    Line #572 (got 9 columns instead of 30)\n    Line #573 (got 9 columns instead of 30)\n    Line #574 (got 9 columns instead of 30)\n    Line #575 (got 9 columns instead of 30)\n    Line #576 (got 9 columns instead of 30)\n    Line #577 (got 9 columns instead of 30)\n    Line #578 (got 9 columns instead of 30)\n    Line #579 (got 9 columns instead of 30)\n    Line #580 (got 9 columns instead of 30)\n    Line #581 (got 9 columns instead of 30)\n    Line #582 (got 9 columns instead of 30)\n    Line #583 (got 9 columns instead of 30)\n    Line #584 (got 9 columns instead of 30)\n    Line #585 (got 9 columns instead of 30)\n    Line #586 (got 9 columns instead of 30)\n    Line #587 (got 9 columns instead of 30)\n    Line #588 (got 9 columns instead of 30)\n    Line #589 (got 9 columns instead of 30)\n    Line #590 (got 9 columns instead of 30)\n    Line #591 (got 9 columns instead of 30)\n    Line #592 (got 9 columns instead of 30)\n    Line #593 (got 9 columns instead of 30)\n    Line #594 (got 9 columns instead of 30)\n    Line #595 (got 9 columns instead of 30)\n    Line #596 (got 9 columns instead of 30)\n    Line #597 (got 9 columns instead of 30)\n    Line #598 (got 9 columns instead of 30)\n    Line #599 (got 9 columns instead of 30)\n    Line #600 (got 9 columns instead of 30)\n    Line #601 (got 9 columns instead of 30)\n    Line #602 (got 9 columns instead of 30)\n    Line #603 (got 9 columns instead of 30)\n    Line #604 (got 9 columns instead of 30)\n    Line #605 (got 9 columns instead of 30)\n    Line #606 (got 9 columns instead of 30)\n    Line #607 (got 9 columns instead of 30)\n    Line #608 (got 9 columns instead of 30)\n    Line #609 (got 9 columns instead of 30)\n    Line #610 (got 9 columns instead of 30)\n    Line #611 (got 9 columns instead of 30)\n    Line #612 (got 9 columns instead of 30)\n    Line #613 (got 9 columns instead of 30)\n    Line #614 (got 9 columns instead of 30)\n    Line #615 (got 9 columns instead of 30)\n    Line #616 (got 9 columns instead of 30)\n    Line #617 (got 9 columns instead of 30)\n    Line #618 (got 9 columns instead of 30)\n    Line #619 (got 9 columns instead of 30)\n    Line #620 (got 9 columns instead of 30)\n    Line #621 (got 9 columns instead of 30)\n    Line #622 (got 9 columns instead of 30)\n    Line #623 (got 9 columns instead of 30)\n    Line #624 (got 9 columns instead of 30)\n    Line #625 (got 9 columns instead of 30)\n    Line #626 (got 9 columns instead of 30)\n    Line #627 (got 9 columns instead of 30)\n    Line #628 (got 9 columns instead of 30)\n    Line #629 (got 9 columns instead of 30)\n    Line #630 (got 9 columns instead of 30)\n    Line #631 (got 9 columns instead of 30)\n    Line #632 (got 9 columns instead of 30)\n    Line #633 (got 9 columns instead of 30)\n    Line #634 (got 9 columns instead of 30)\n    Line #635 (got 9 columns instead of 30)\n    Line #636 (got 9 columns instead of 30)\n    Line #637 (got 9 columns instead of 30)\n    Line #638 (got 9 columns instead of 30)\n    Line #639 (got 9 columns instead of 30)\n    Line #640 (got 9 columns instead of 30)\n    Line #641 (got 9 columns instead of 30)\n    Line #642 (got 9 columns instead of 30)\n    Line #643 (got 9 columns instead of 30)\n    Line #644 (got 9 columns instead of 30)\n    Line #645 (got 9 columns instead of 30)\n    Line #646 (got 9 columns instead of 30)\n    Line #647 (got 9 columns instead of 30)\n    Line #648 (got 9 columns instead of 30)\n    Line #649 (got 9 columns instead of 30)\n    Line #650 (got 9 columns instead of 30)\n    Line #651 (got 9 columns instead of 30)\n    Line #652 (got 9 columns instead of 30)\n    Line #653 (got 9 columns instead of 30)\n    Line #654 (got 9 columns instead of 30)\n    Line #655 (got 9 columns instead of 30)\n    Line #656 (got 9 columns instead of 30)\n    Line #657 (got 9 columns instead of 30)\n    Line #658 (got 9 columns instead of 30)\n    Line #659 (got 9 columns instead of 30)\n    Line #660 (got 9 columns instead of 30)\n    Line #661 (got 9 columns instead of 30)\n    Line #662 (got 9 columns instead of 30)\n    Line #663 (got 9 columns instead of 30)\n    Line #664 (got 9 columns instead of 30)\n    Line #665 (got 9 columns instead of 30)\n    Line #666 (got 9 columns instead of 30)\n    Line #667 (got 9 columns instead of 30)\n    Line #668 (got 9 columns instead of 30)\n    Line #669 (got 9 columns instead of 30)\n    Line #670 (got 9 columns instead of 30)\n    Line #671 (got 9 columns instead of 30)\n    Line #672 (got 9 columns instead of 30)\n    Line #673 (got 9 columns instead of 30)\n    Line #674 (got 9 columns instead of 30)\n    Line #675 (got 9 columns instead of 30)\n    Line #676 (got 9 columns instead of 30)\n    Line #677 (got 9 columns instead of 30)\n    Line #678 (got 9 columns instead of 30)\n    Line #679 (got 9 columns instead of 30)\n    Line #680 (got 9 columns instead of 30)\n    Line #681 (got 9 columns instead of 30)\n    Line #682 (got 9 columns instead of 30)\n    Line #683 (got 9 columns instead of 30)\n    Line #684 (got 9 columns instead of 30)\n    Line #685 (got 9 columns instead of 30)\n    Line #686 (got 9 columns instead of 30)\n    Line #687 (got 9 columns instead of 30)\n    Line #688 (got 9 columns instead of 30)\n    Line #689 (got 9 columns instead of 30)\n    Line #690 (got 9 columns instead of 30)\n    Line #691 (got 9 columns instead of 30)\n    Line #692 (got 9 columns instead of 30)\n    Line #693 (got 9 columns instead of 30)\n    Line #694 (got 9 columns instead of 30)\n    Line #695 (got 9 columns instead of 30)\n    Line #696 (got 9 columns instead of 30)\n    Line #697 (got 9 columns instead of 30)\n    Line #698 (got 9 columns instead of 30)\n    Line #699 (got 9 columns instead of 30)\n    Line #700 (got 9 columns instead of 30)\n    Line #701 (got 9 columns instead of 30)\n    Line #702 (got 9 columns instead of 30)\n    Line #703 (got 9 columns instead of 30)\n    Line #704 (got 9 columns instead of 30)\n    Line #705 (got 9 columns instead of 30)\n    Line #706 (got 9 columns instead of 30)\n    Line #707 (got 9 columns instead of 30)\n    Line #708 (got 9 columns instead of 30)\n    Line #709 (got 9 columns instead of 30)\n    Line #710 (got 9 columns instead of 30)\n    Line #711 (got 9 columns instead of 30)\n    Line #712 (got 9 columns instead of 30)\n    Line #713 (got 9 columns instead of 30)\n    Line #714 (got 9 columns instead of 30)\n    Line #715 (got 9 columns instead of 30)\n    Line #716 (got 9 columns instead of 30)\n    Line #717 (got 9 columns instead of 30)\n    Line #718 (got 9 columns instead of 30)\n    Line #719 (got 9 columns instead of 30)\n    Line #720 (got 9 columns instead of 30)\n    Line #721 (got 9 columns instead of 30)",
     "output_type": "error",
     "traceback": [
      "\u001b[0;31m---------------------------------------------------------------------------\u001b[0m",
      "\u001b[0;31mValueError\u001b[0m                                Traceback (most recent call last)",
      "Cell \u001b[0;32mIn[8], line 6\u001b[0m\n\u001b[1;32m      1\u001b[0m \u001b[39m\"\"\"\u001b[39;00m\n\u001b[1;32m      2\u001b[0m \u001b[39mUsing Numpy\u001b[39;00m\n\u001b[1;32m      3\u001b[0m \u001b[39m\"\"\"\u001b[39;00m\n\u001b[1;32m      4\u001b[0m \u001b[39mimport\u001b[39;00m \u001b[39mnumpy\u001b[39;00m \u001b[39mas\u001b[39;00m \u001b[39mnp\u001b[39;00m\n\u001b[0;32m----> 6\u001b[0m file \u001b[39m=\u001b[39m np\u001b[39m.\u001b[39mgenfromtxt(\u001b[39m'\u001b[39m\u001b[39men_climate_hourly_AB_3031094_09-2023_P1H.csv\u001b[39m\u001b[39m'\u001b[39m, delimiter\u001b[39m=\u001b[39m\u001b[39m'\u001b[39m\u001b[39m,\u001b[39m\u001b[39m'\u001b[39m, names\u001b[39m=\u001b[39m\u001b[39mTrue\u001b[39;00m)\n\u001b[1;32m      8\u001b[0m \u001b[39mprint\u001b[39m(file)\n",
      "File \u001b[0;32m~/anaconda3/lib/python3.11/site-packages/numpy/lib/npyio.py:2309\u001b[0m, in \u001b[0;36mgenfromtxt\u001b[0;34m(fname, dtype, comments, delimiter, skip_header, skip_footer, converters, missing_values, filling_values, usecols, names, excludelist, deletechars, replace_space, autostrip, case_sensitive, defaultfmt, unpack, usemask, loose, invalid_raise, max_rows, encoding, ndmin, like)\u001b[0m\n\u001b[1;32m   2307\u001b[0m \u001b[39m# Raise an exception ?\u001b[39;00m\n\u001b[1;32m   2308\u001b[0m \u001b[39mif\u001b[39;00m invalid_raise:\n\u001b[0;32m-> 2309\u001b[0m     \u001b[39mraise\u001b[39;00m \u001b[39mValueError\u001b[39;00m(errmsg)\n\u001b[1;32m   2310\u001b[0m \u001b[39m# Issue a warning ?\u001b[39;00m\n\u001b[1;32m   2311\u001b[0m \u001b[39melse\u001b[39;00m:\n\u001b[1;32m   2312\u001b[0m     warnings\u001b[39m.\u001b[39mwarn(errmsg, ConversionWarning, stacklevel\u001b[39m=\u001b[39m\u001b[39m2\u001b[39m)\n",
      "\u001b[0;31mValueError\u001b[0m: Some errors were detected !\n    Line #266 (got 9 columns instead of 30)\n    Line #267 (got 9 columns instead of 30)\n    Line #268 (got 9 columns instead of 30)\n    Line #269 (got 9 columns instead of 30)\n    Line #270 (got 9 columns instead of 30)\n    Line #271 (got 9 columns instead of 30)\n    Line #272 (got 9 columns instead of 30)\n    Line #273 (got 9 columns instead of 30)\n    Line #274 (got 9 columns instead of 30)\n    Line #275 (got 9 columns instead of 30)\n    Line #276 (got 9 columns instead of 30)\n    Line #277 (got 9 columns instead of 30)\n    Line #278 (got 9 columns instead of 30)\n    Line #279 (got 9 columns instead of 30)\n    Line #280 (got 9 columns instead of 30)\n    Line #281 (got 9 columns instead of 30)\n    Line #282 (got 9 columns instead of 30)\n    Line #283 (got 9 columns instead of 30)\n    Line #284 (got 9 columns instead of 30)\n    Line #285 (got 9 columns instead of 30)\n    Line #286 (got 9 columns instead of 30)\n    Line #287 (got 9 columns instead of 30)\n    Line #288 (got 9 columns instead of 30)\n    Line #289 (got 9 columns instead of 30)\n    Line #290 (got 9 columns instead of 30)\n    Line #291 (got 9 columns instead of 30)\n    Line #292 (got 9 columns instead of 30)\n    Line #293 (got 9 columns instead of 30)\n    Line #294 (got 9 columns instead of 30)\n    Line #295 (got 9 columns instead of 30)\n    Line #296 (got 9 columns instead of 30)\n    Line #297 (got 9 columns instead of 30)\n    Line #298 (got 9 columns instead of 30)\n    Line #299 (got 9 columns instead of 30)\n    Line #300 (got 9 columns instead of 30)\n    Line #301 (got 9 columns instead of 30)\n    Line #302 (got 9 columns instead of 30)\n    Line #303 (got 9 columns instead of 30)\n    Line #304 (got 9 columns instead of 30)\n    Line #305 (got 9 columns instead of 30)\n    Line #306 (got 9 columns instead of 30)\n    Line #307 (got 9 columns instead of 30)\n    Line #308 (got 9 columns instead of 30)\n    Line #309 (got 9 columns instead of 30)\n    Line #310 (got 9 columns instead of 30)\n    Line #311 (got 9 columns instead of 30)\n    Line #312 (got 9 columns instead of 30)\n    Line #313 (got 9 columns instead of 30)\n    Line #314 (got 9 columns instead of 30)\n    Line #315 (got 9 columns instead of 30)\n    Line #316 (got 9 columns instead of 30)\n    Line #317 (got 9 columns instead of 30)\n    Line #318 (got 9 columns instead of 30)\n    Line #319 (got 9 columns instead of 30)\n    Line #320 (got 9 columns instead of 30)\n    Line #321 (got 9 columns instead of 30)\n    Line #322 (got 9 columns instead of 30)\n    Line #323 (got 9 columns instead of 30)\n    Line #324 (got 9 columns instead of 30)\n    Line #325 (got 9 columns instead of 30)\n    Line #326 (got 9 columns instead of 30)\n    Line #327 (got 9 columns instead of 30)\n    Line #328 (got 9 columns instead of 30)\n    Line #329 (got 9 columns instead of 30)\n    Line #330 (got 9 columns instead of 30)\n    Line #331 (got 9 columns instead of 30)\n    Line #332 (got 9 columns instead of 30)\n    Line #333 (got 9 columns instead of 30)\n    Line #334 (got 9 columns instead of 30)\n    Line #335 (got 9 columns instead of 30)\n    Line #336 (got 9 columns instead of 30)\n    Line #337 (got 9 columns instead of 30)\n    Line #338 (got 9 columns instead of 30)\n    Line #339 (got 9 columns instead of 30)\n    Line #340 (got 9 columns instead of 30)\n    Line #341 (got 9 columns instead of 30)\n    Line #342 (got 9 columns instead of 30)\n    Line #343 (got 9 columns instead of 30)\n    Line #344 (got 9 columns instead of 30)\n    Line #345 (got 9 columns instead of 30)\n    Line #346 (got 9 columns instead of 30)\n    Line #347 (got 9 columns instead of 30)\n    Line #348 (got 9 columns instead of 30)\n    Line #349 (got 9 columns instead of 30)\n    Line #350 (got 9 columns instead of 30)\n    Line #351 (got 9 columns instead of 30)\n    Line #352 (got 9 columns instead of 30)\n    Line #353 (got 9 columns instead of 30)\n    Line #354 (got 9 columns instead of 30)\n    Line #355 (got 9 columns instead of 30)\n    Line #356 (got 9 columns instead of 30)\n    Line #357 (got 9 columns instead of 30)\n    Line #358 (got 9 columns instead of 30)\n    Line #359 (got 9 columns instead of 30)\n    Line #360 (got 9 columns instead of 30)\n    Line #361 (got 9 columns instead of 30)\n    Line #362 (got 9 columns instead of 30)\n    Line #363 (got 9 columns instead of 30)\n    Line #364 (got 9 columns instead of 30)\n    Line #365 (got 9 columns instead of 30)\n    Line #366 (got 9 columns instead of 30)\n    Line #367 (got 9 columns instead of 30)\n    Line #368 (got 9 columns instead of 30)\n    Line #369 (got 9 columns instead of 30)\n    Line #370 (got 9 columns instead of 30)\n    Line #371 (got 9 columns instead of 30)\n    Line #372 (got 9 columns instead of 30)\n    Line #373 (got 9 columns instead of 30)\n    Line #374 (got 9 columns instead of 30)\n    Line #375 (got 9 columns instead of 30)\n    Line #376 (got 9 columns instead of 30)\n    Line #377 (got 9 columns instead of 30)\n    Line #378 (got 9 columns instead of 30)\n    Line #379 (got 9 columns instead of 30)\n    Line #380 (got 9 columns instead of 30)\n    Line #381 (got 9 columns instead of 30)\n    Line #382 (got 9 columns instead of 30)\n    Line #383 (got 9 columns instead of 30)\n    Line #384 (got 9 columns instead of 30)\n    Line #385 (got 9 columns instead of 30)\n    Line #386 (got 9 columns instead of 30)\n    Line #387 (got 9 columns instead of 30)\n    Line #388 (got 9 columns instead of 30)\n    Line #389 (got 9 columns instead of 30)\n    Line #390 (got 9 columns instead of 30)\n    Line #391 (got 9 columns instead of 30)\n    Line #392 (got 9 columns instead of 30)\n    Line #393 (got 9 columns instead of 30)\n    Line #394 (got 9 columns instead of 30)\n    Line #395 (got 9 columns instead of 30)\n    Line #396 (got 9 columns instead of 30)\n    Line #397 (got 9 columns instead of 30)\n    Line #398 (got 9 columns instead of 30)\n    Line #399 (got 9 columns instead of 30)\n    Line #400 (got 9 columns instead of 30)\n    Line #401 (got 9 columns instead of 30)\n    Line #402 (got 9 columns instead of 30)\n    Line #403 (got 9 columns instead of 30)\n    Line #404 (got 9 columns instead of 30)\n    Line #405 (got 9 columns instead of 30)\n    Line #406 (got 9 columns instead of 30)\n    Line #407 (got 9 columns instead of 30)\n    Line #408 (got 9 columns instead of 30)\n    Line #409 (got 9 columns instead of 30)\n    Line #410 (got 9 columns instead of 30)\n    Line #411 (got 9 columns instead of 30)\n    Line #412 (got 9 columns instead of 30)\n    Line #413 (got 9 columns instead of 30)\n    Line #414 (got 9 columns instead of 30)\n    Line #415 (got 9 columns instead of 30)\n    Line #416 (got 9 columns instead of 30)\n    Line #417 (got 9 columns instead of 30)\n    Line #418 (got 9 columns instead of 30)\n    Line #419 (got 9 columns instead of 30)\n    Line #420 (got 9 columns instead of 30)\n    Line #421 (got 9 columns instead of 30)\n    Line #422 (got 9 columns instead of 30)\n    Line #423 (got 9 columns instead of 30)\n    Line #424 (got 9 columns instead of 30)\n    Line #425 (got 9 columns instead of 30)\n    Line #426 (got 9 columns instead of 30)\n    Line #427 (got 9 columns instead of 30)\n    Line #428 (got 9 columns instead of 30)\n    Line #429 (got 9 columns instead of 30)\n    Line #430 (got 9 columns instead of 30)\n    Line #431 (got 9 columns instead of 30)\n    Line #432 (got 9 columns instead of 30)\n    Line #433 (got 9 columns instead of 30)\n    Line #434 (got 9 columns instead of 30)\n    Line #435 (got 9 columns instead of 30)\n    Line #436 (got 9 columns instead of 30)\n    Line #437 (got 9 columns instead of 30)\n    Line #438 (got 9 columns instead of 30)\n    Line #439 (got 9 columns instead of 30)\n    Line #440 (got 9 columns instead of 30)\n    Line #441 (got 9 columns instead of 30)\n    Line #442 (got 9 columns instead of 30)\n    Line #443 (got 9 columns instead of 30)\n    Line #444 (got 9 columns instead of 30)\n    Line #445 (got 9 columns instead of 30)\n    Line #446 (got 9 columns instead of 30)\n    Line #447 (got 9 columns instead of 30)\n    Line #448 (got 9 columns instead of 30)\n    Line #449 (got 9 columns instead of 30)\n    Line #450 (got 9 columns instead of 30)\n    Line #451 (got 9 columns instead of 30)\n    Line #452 (got 9 columns instead of 30)\n    Line #453 (got 9 columns instead of 30)\n    Line #454 (got 9 columns instead of 30)\n    Line #455 (got 9 columns instead of 30)\n    Line #456 (got 9 columns instead of 30)\n    Line #457 (got 9 columns instead of 30)\n    Line #458 (got 9 columns instead of 30)\n    Line #459 (got 9 columns instead of 30)\n    Line #460 (got 9 columns instead of 30)\n    Line #461 (got 9 columns instead of 30)\n    Line #462 (got 9 columns instead of 30)\n    Line #463 (got 9 columns instead of 30)\n    Line #464 (got 9 columns instead of 30)\n    Line #465 (got 9 columns instead of 30)\n    Line #466 (got 9 columns instead of 30)\n    Line #467 (got 9 columns instead of 30)\n    Line #468 (got 9 columns instead of 30)\n    Line #469 (got 9 columns instead of 30)\n    Line #470 (got 9 columns instead of 30)\n    Line #471 (got 9 columns instead of 30)\n    Line #472 (got 9 columns instead of 30)\n    Line #473 (got 9 columns instead of 30)\n    Line #474 (got 9 columns instead of 30)\n    Line #475 (got 9 columns instead of 30)\n    Line #476 (got 9 columns instead of 30)\n    Line #477 (got 9 columns instead of 30)\n    Line #478 (got 9 columns instead of 30)\n    Line #479 (got 9 columns instead of 30)\n    Line #480 (got 9 columns instead of 30)\n    Line #481 (got 9 columns instead of 30)\n    Line #482 (got 9 columns instead of 30)\n    Line #483 (got 9 columns instead of 30)\n    Line #484 (got 9 columns instead of 30)\n    Line #485 (got 9 columns instead of 30)\n    Line #486 (got 9 columns instead of 30)\n    Line #487 (got 9 columns instead of 30)\n    Line #488 (got 9 columns instead of 30)\n    Line #489 (got 9 columns instead of 30)\n    Line #490 (got 9 columns instead of 30)\n    Line #491 (got 9 columns instead of 30)\n    Line #492 (got 9 columns instead of 30)\n    Line #493 (got 9 columns instead of 30)\n    Line #494 (got 9 columns instead of 30)\n    Line #495 (got 9 columns instead of 30)\n    Line #496 (got 9 columns instead of 30)\n    Line #497 (got 9 columns instead of 30)\n    Line #498 (got 9 columns instead of 30)\n    Line #499 (got 9 columns instead of 30)\n    Line #500 (got 9 columns instead of 30)\n    Line #501 (got 9 columns instead of 30)\n    Line #502 (got 9 columns instead of 30)\n    Line #503 (got 9 columns instead of 30)\n    Line #504 (got 9 columns instead of 30)\n    Line #505 (got 9 columns instead of 30)\n    Line #506 (got 9 columns instead of 30)\n    Line #507 (got 9 columns instead of 30)\n    Line #508 (got 9 columns instead of 30)\n    Line #509 (got 9 columns instead of 30)\n    Line #510 (got 9 columns instead of 30)\n    Line #511 (got 9 columns instead of 30)\n    Line #512 (got 9 columns instead of 30)\n    Line #513 (got 9 columns instead of 30)\n    Line #514 (got 9 columns instead of 30)\n    Line #515 (got 9 columns instead of 30)\n    Line #516 (got 9 columns instead of 30)\n    Line #517 (got 9 columns instead of 30)\n    Line #518 (got 9 columns instead of 30)\n    Line #519 (got 9 columns instead of 30)\n    Line #520 (got 9 columns instead of 30)\n    Line #521 (got 9 columns instead of 30)\n    Line #522 (got 9 columns instead of 30)\n    Line #523 (got 9 columns instead of 30)\n    Line #524 (got 9 columns instead of 30)\n    Line #525 (got 9 columns instead of 30)\n    Line #526 (got 9 columns instead of 30)\n    Line #527 (got 9 columns instead of 30)\n    Line #528 (got 9 columns instead of 30)\n    Line #529 (got 9 columns instead of 30)\n    Line #530 (got 9 columns instead of 30)\n    Line #531 (got 9 columns instead of 30)\n    Line #532 (got 9 columns instead of 30)\n    Line #533 (got 9 columns instead of 30)\n    Line #534 (got 9 columns instead of 30)\n    Line #535 (got 9 columns instead of 30)\n    Line #536 (got 9 columns instead of 30)\n    Line #537 (got 9 columns instead of 30)\n    Line #538 (got 9 columns instead of 30)\n    Line #539 (got 9 columns instead of 30)\n    Line #540 (got 9 columns instead of 30)\n    Line #541 (got 9 columns instead of 30)\n    Line #542 (got 9 columns instead of 30)\n    Line #543 (got 9 columns instead of 30)\n    Line #544 (got 9 columns instead of 30)\n    Line #545 (got 9 columns instead of 30)\n    Line #546 (got 9 columns instead of 30)\n    Line #547 (got 9 columns instead of 30)\n    Line #548 (got 9 columns instead of 30)\n    Line #549 (got 9 columns instead of 30)\n    Line #550 (got 9 columns instead of 30)\n    Line #551 (got 9 columns instead of 30)\n    Line #552 (got 9 columns instead of 30)\n    Line #553 (got 9 columns instead of 30)\n    Line #554 (got 9 columns instead of 30)\n    Line #555 (got 9 columns instead of 30)\n    Line #556 (got 9 columns instead of 30)\n    Line #557 (got 9 columns instead of 30)\n    Line #558 (got 9 columns instead of 30)\n    Line #559 (got 9 columns instead of 30)\n    Line #560 (got 9 columns instead of 30)\n    Line #561 (got 9 columns instead of 30)\n    Line #562 (got 9 columns instead of 30)\n    Line #563 (got 9 columns instead of 30)\n    Line #564 (got 9 columns instead of 30)\n    Line #565 (got 9 columns instead of 30)\n    Line #566 (got 9 columns instead of 30)\n    Line #567 (got 9 columns instead of 30)\n    Line #568 (got 9 columns instead of 30)\n    Line #569 (got 9 columns instead of 30)\n    Line #570 (got 9 columns instead of 30)\n    Line #571 (got 9 columns instead of 30)\n    Line #572 (got 9 columns instead of 30)\n    Line #573 (got 9 columns instead of 30)\n    Line #574 (got 9 columns instead of 30)\n    Line #575 (got 9 columns instead of 30)\n    Line #576 (got 9 columns instead of 30)\n    Line #577 (got 9 columns instead of 30)\n    Line #578 (got 9 columns instead of 30)\n    Line #579 (got 9 columns instead of 30)\n    Line #580 (got 9 columns instead of 30)\n    Line #581 (got 9 columns instead of 30)\n    Line #582 (got 9 columns instead of 30)\n    Line #583 (got 9 columns instead of 30)\n    Line #584 (got 9 columns instead of 30)\n    Line #585 (got 9 columns instead of 30)\n    Line #586 (got 9 columns instead of 30)\n    Line #587 (got 9 columns instead of 30)\n    Line #588 (got 9 columns instead of 30)\n    Line #589 (got 9 columns instead of 30)\n    Line #590 (got 9 columns instead of 30)\n    Line #591 (got 9 columns instead of 30)\n    Line #592 (got 9 columns instead of 30)\n    Line #593 (got 9 columns instead of 30)\n    Line #594 (got 9 columns instead of 30)\n    Line #595 (got 9 columns instead of 30)\n    Line #596 (got 9 columns instead of 30)\n    Line #597 (got 9 columns instead of 30)\n    Line #598 (got 9 columns instead of 30)\n    Line #599 (got 9 columns instead of 30)\n    Line #600 (got 9 columns instead of 30)\n    Line #601 (got 9 columns instead of 30)\n    Line #602 (got 9 columns instead of 30)\n    Line #603 (got 9 columns instead of 30)\n    Line #604 (got 9 columns instead of 30)\n    Line #605 (got 9 columns instead of 30)\n    Line #606 (got 9 columns instead of 30)\n    Line #607 (got 9 columns instead of 30)\n    Line #608 (got 9 columns instead of 30)\n    Line #609 (got 9 columns instead of 30)\n    Line #610 (got 9 columns instead of 30)\n    Line #611 (got 9 columns instead of 30)\n    Line #612 (got 9 columns instead of 30)\n    Line #613 (got 9 columns instead of 30)\n    Line #614 (got 9 columns instead of 30)\n    Line #615 (got 9 columns instead of 30)\n    Line #616 (got 9 columns instead of 30)\n    Line #617 (got 9 columns instead of 30)\n    Line #618 (got 9 columns instead of 30)\n    Line #619 (got 9 columns instead of 30)\n    Line #620 (got 9 columns instead of 30)\n    Line #621 (got 9 columns instead of 30)\n    Line #622 (got 9 columns instead of 30)\n    Line #623 (got 9 columns instead of 30)\n    Line #624 (got 9 columns instead of 30)\n    Line #625 (got 9 columns instead of 30)\n    Line #626 (got 9 columns instead of 30)\n    Line #627 (got 9 columns instead of 30)\n    Line #628 (got 9 columns instead of 30)\n    Line #629 (got 9 columns instead of 30)\n    Line #630 (got 9 columns instead of 30)\n    Line #631 (got 9 columns instead of 30)\n    Line #632 (got 9 columns instead of 30)\n    Line #633 (got 9 columns instead of 30)\n    Line #634 (got 9 columns instead of 30)\n    Line #635 (got 9 columns instead of 30)\n    Line #636 (got 9 columns instead of 30)\n    Line #637 (got 9 columns instead of 30)\n    Line #638 (got 9 columns instead of 30)\n    Line #639 (got 9 columns instead of 30)\n    Line #640 (got 9 columns instead of 30)\n    Line #641 (got 9 columns instead of 30)\n    Line #642 (got 9 columns instead of 30)\n    Line #643 (got 9 columns instead of 30)\n    Line #644 (got 9 columns instead of 30)\n    Line #645 (got 9 columns instead of 30)\n    Line #646 (got 9 columns instead of 30)\n    Line #647 (got 9 columns instead of 30)\n    Line #648 (got 9 columns instead of 30)\n    Line #649 (got 9 columns instead of 30)\n    Line #650 (got 9 columns instead of 30)\n    Line #651 (got 9 columns instead of 30)\n    Line #652 (got 9 columns instead of 30)\n    Line #653 (got 9 columns instead of 30)\n    Line #654 (got 9 columns instead of 30)\n    Line #655 (got 9 columns instead of 30)\n    Line #656 (got 9 columns instead of 30)\n    Line #657 (got 9 columns instead of 30)\n    Line #658 (got 9 columns instead of 30)\n    Line #659 (got 9 columns instead of 30)\n    Line #660 (got 9 columns instead of 30)\n    Line #661 (got 9 columns instead of 30)\n    Line #662 (got 9 columns instead of 30)\n    Line #663 (got 9 columns instead of 30)\n    Line #664 (got 9 columns instead of 30)\n    Line #665 (got 9 columns instead of 30)\n    Line #666 (got 9 columns instead of 30)\n    Line #667 (got 9 columns instead of 30)\n    Line #668 (got 9 columns instead of 30)\n    Line #669 (got 9 columns instead of 30)\n    Line #670 (got 9 columns instead of 30)\n    Line #671 (got 9 columns instead of 30)\n    Line #672 (got 9 columns instead of 30)\n    Line #673 (got 9 columns instead of 30)\n    Line #674 (got 9 columns instead of 30)\n    Line #675 (got 9 columns instead of 30)\n    Line #676 (got 9 columns instead of 30)\n    Line #677 (got 9 columns instead of 30)\n    Line #678 (got 9 columns instead of 30)\n    Line #679 (got 9 columns instead of 30)\n    Line #680 (got 9 columns instead of 30)\n    Line #681 (got 9 columns instead of 30)\n    Line #682 (got 9 columns instead of 30)\n    Line #683 (got 9 columns instead of 30)\n    Line #684 (got 9 columns instead of 30)\n    Line #685 (got 9 columns instead of 30)\n    Line #686 (got 9 columns instead of 30)\n    Line #687 (got 9 columns instead of 30)\n    Line #688 (got 9 columns instead of 30)\n    Line #689 (got 9 columns instead of 30)\n    Line #690 (got 9 columns instead of 30)\n    Line #691 (got 9 columns instead of 30)\n    Line #692 (got 9 columns instead of 30)\n    Line #693 (got 9 columns instead of 30)\n    Line #694 (got 9 columns instead of 30)\n    Line #695 (got 9 columns instead of 30)\n    Line #696 (got 9 columns instead of 30)\n    Line #697 (got 9 columns instead of 30)\n    Line #698 (got 9 columns instead of 30)\n    Line #699 (got 9 columns instead of 30)\n    Line #700 (got 9 columns instead of 30)\n    Line #701 (got 9 columns instead of 30)\n    Line #702 (got 9 columns instead of 30)\n    Line #703 (got 9 columns instead of 30)\n    Line #704 (got 9 columns instead of 30)\n    Line #705 (got 9 columns instead of 30)\n    Line #706 (got 9 columns instead of 30)\n    Line #707 (got 9 columns instead of 30)\n    Line #708 (got 9 columns instead of 30)\n    Line #709 (got 9 columns instead of 30)\n    Line #710 (got 9 columns instead of 30)\n    Line #711 (got 9 columns instead of 30)\n    Line #712 (got 9 columns instead of 30)\n    Line #713 (got 9 columns instead of 30)\n    Line #714 (got 9 columns instead of 30)\n    Line #715 (got 9 columns instead of 30)\n    Line #716 (got 9 columns instead of 30)\n    Line #717 (got 9 columns instead of 30)\n    Line #718 (got 9 columns instead of 30)\n    Line #719 (got 9 columns instead of 30)\n    Line #720 (got 9 columns instead of 30)\n    Line #721 (got 9 columns instead of 30)"
     ]
    }
   ],
   "source": [
    "\"\"\"\n",
    "Using Numpy\n",
    "\"\"\"\n",
    "import numpy as np\n",
    "\n",
    "file = np.genfromtxt('en_climate_hourly_AB_3031094_09-2023_P1H.csv', delimiter=',', names=True)\n",
    "\n",
    "print(file)\n",
    "\n",
    "# Why didn't this work?  Not all rows have the same length.  Numpy requires that a \n",
    "# data file be 'square', or have the same number of columns in each row."
   ]
  },
  {
   "cell_type": "code",
   "execution_count": 9,
   "metadata": {},
   "outputs": [
    {
     "data": {
      "text/html": [
       "<div>\n",
       "<style scoped>\n",
       "    .dataframe tbody tr th:only-of-type {\n",
       "        vertical-align: middle;\n",
       "    }\n",
       "\n",
       "    .dataframe tbody tr th {\n",
       "        vertical-align: top;\n",
       "    }\n",
       "\n",
       "    .dataframe thead th {\n",
       "        text-align: right;\n",
       "    }\n",
       "</style>\n",
       "<table border=\"1\" class=\"dataframe\">\n",
       "  <thead>\n",
       "    <tr style=\"text-align: right;\">\n",
       "      <th></th>\n",
       "      <th>Longitude (x)</th>\n",
       "      <th>Latitude (y)</th>\n",
       "      <th>Station Name</th>\n",
       "      <th>Climate ID</th>\n",
       "      <th>Date/Time (LST)</th>\n",
       "      <th>Year</th>\n",
       "      <th>Month</th>\n",
       "      <th>Day</th>\n",
       "      <th>Time (LST)</th>\n",
       "      <th>Temp (°C)</th>\n",
       "      <th>...</th>\n",
       "      <th>Wind Spd Flag</th>\n",
       "      <th>Visibility (km)</th>\n",
       "      <th>Visibility Flag</th>\n",
       "      <th>Stn Press (kPa)</th>\n",
       "      <th>Stn Press Flag</th>\n",
       "      <th>Hmdx</th>\n",
       "      <th>Hmdx Flag</th>\n",
       "      <th>Wind Chill</th>\n",
       "      <th>Wind Chill Flag</th>\n",
       "      <th>Weather</th>\n",
       "    </tr>\n",
       "  </thead>\n",
       "  <tbody>\n",
       "    <tr>\n",
       "      <th>0</th>\n",
       "      <td>-114.0</td>\n",
       "      <td>51.11</td>\n",
       "      <td>CALGARY INT'L CS</td>\n",
       "      <td>3031094</td>\n",
       "      <td>2023-09-01 00:00</td>\n",
       "      <td>2023</td>\n",
       "      <td>9</td>\n",
       "      <td>1</td>\n",
       "      <td>00:00</td>\n",
       "      <td>15.8</td>\n",
       "      <td>...</td>\n",
       "      <td>NaN</td>\n",
       "      <td>NaN</td>\n",
       "      <td>NaN</td>\n",
       "      <td>88.86</td>\n",
       "      <td>NaN</td>\n",
       "      <td>NaN</td>\n",
       "      <td>NaN</td>\n",
       "      <td>NaN</td>\n",
       "      <td>NaN</td>\n",
       "      <td>NaN</td>\n",
       "    </tr>\n",
       "    <tr>\n",
       "      <th>1</th>\n",
       "      <td>-114.0</td>\n",
       "      <td>51.11</td>\n",
       "      <td>CALGARY INT'L CS</td>\n",
       "      <td>3031094</td>\n",
       "      <td>2023-09-01 01:00</td>\n",
       "      <td>2023</td>\n",
       "      <td>9</td>\n",
       "      <td>1</td>\n",
       "      <td>01:00</td>\n",
       "      <td>14.9</td>\n",
       "      <td>...</td>\n",
       "      <td>NaN</td>\n",
       "      <td>NaN</td>\n",
       "      <td>NaN</td>\n",
       "      <td>88.91</td>\n",
       "      <td>NaN</td>\n",
       "      <td>NaN</td>\n",
       "      <td>NaN</td>\n",
       "      <td>NaN</td>\n",
       "      <td>NaN</td>\n",
       "      <td>NaN</td>\n",
       "    </tr>\n",
       "    <tr>\n",
       "      <th>2</th>\n",
       "      <td>-114.0</td>\n",
       "      <td>51.11</td>\n",
       "      <td>CALGARY INT'L CS</td>\n",
       "      <td>3031094</td>\n",
       "      <td>2023-09-01 02:00</td>\n",
       "      <td>2023</td>\n",
       "      <td>9</td>\n",
       "      <td>1</td>\n",
       "      <td>02:00</td>\n",
       "      <td>13.9</td>\n",
       "      <td>...</td>\n",
       "      <td>NaN</td>\n",
       "      <td>NaN</td>\n",
       "      <td>NaN</td>\n",
       "      <td>88.95</td>\n",
       "      <td>NaN</td>\n",
       "      <td>NaN</td>\n",
       "      <td>NaN</td>\n",
       "      <td>NaN</td>\n",
       "      <td>NaN</td>\n",
       "      <td>NaN</td>\n",
       "    </tr>\n",
       "    <tr>\n",
       "      <th>3</th>\n",
       "      <td>-114.0</td>\n",
       "      <td>51.11</td>\n",
       "      <td>CALGARY INT'L CS</td>\n",
       "      <td>3031094</td>\n",
       "      <td>2023-09-01 03:00</td>\n",
       "      <td>2023</td>\n",
       "      <td>9</td>\n",
       "      <td>1</td>\n",
       "      <td>03:00</td>\n",
       "      <td>14.2</td>\n",
       "      <td>...</td>\n",
       "      <td>NaN</td>\n",
       "      <td>NaN</td>\n",
       "      <td>NaN</td>\n",
       "      <td>88.95</td>\n",
       "      <td>NaN</td>\n",
       "      <td>NaN</td>\n",
       "      <td>NaN</td>\n",
       "      <td>NaN</td>\n",
       "      <td>NaN</td>\n",
       "      <td>NaN</td>\n",
       "    </tr>\n",
       "    <tr>\n",
       "      <th>4</th>\n",
       "      <td>-114.0</td>\n",
       "      <td>51.11</td>\n",
       "      <td>CALGARY INT'L CS</td>\n",
       "      <td>3031094</td>\n",
       "      <td>2023-09-01 04:00</td>\n",
       "      <td>2023</td>\n",
       "      <td>9</td>\n",
       "      <td>1</td>\n",
       "      <td>04:00</td>\n",
       "      <td>13.9</td>\n",
       "      <td>...</td>\n",
       "      <td>NaN</td>\n",
       "      <td>NaN</td>\n",
       "      <td>NaN</td>\n",
       "      <td>89.00</td>\n",
       "      <td>NaN</td>\n",
       "      <td>NaN</td>\n",
       "      <td>NaN</td>\n",
       "      <td>NaN</td>\n",
       "      <td>NaN</td>\n",
       "      <td>NaN</td>\n",
       "    </tr>\n",
       "  </tbody>\n",
       "</table>\n",
       "<p>5 rows × 30 columns</p>\n",
       "</div>"
      ],
      "text/plain": [
       "   Longitude (x)  Latitude (y)      Station Name  Climate ID  \\\n",
       "0         -114.0         51.11  CALGARY INT'L CS     3031094   \n",
       "1         -114.0         51.11  CALGARY INT'L CS     3031094   \n",
       "2         -114.0         51.11  CALGARY INT'L CS     3031094   \n",
       "3         -114.0         51.11  CALGARY INT'L CS     3031094   \n",
       "4         -114.0         51.11  CALGARY INT'L CS     3031094   \n",
       "\n",
       "    Date/Time (LST)  Year  Month  Day Time (LST)  Temp (°C)  ...  \\\n",
       "0  2023-09-01 00:00  2023      9    1      00:00       15.8  ...   \n",
       "1  2023-09-01 01:00  2023      9    1      01:00       14.9  ...   \n",
       "2  2023-09-01 02:00  2023      9    1      02:00       13.9  ...   \n",
       "3  2023-09-01 03:00  2023      9    1      03:00       14.2  ...   \n",
       "4  2023-09-01 04:00  2023      9    1      04:00       13.9  ...   \n",
       "\n",
       "   Wind Spd Flag  Visibility (km)  Visibility Flag  Stn Press (kPa)  \\\n",
       "0            NaN              NaN              NaN            88.86   \n",
       "1            NaN              NaN              NaN            88.91   \n",
       "2            NaN              NaN              NaN            88.95   \n",
       "3            NaN              NaN              NaN            88.95   \n",
       "4            NaN              NaN              NaN            89.00   \n",
       "\n",
       "   Stn Press Flag  Hmdx  Hmdx Flag  Wind Chill  Wind Chill Flag  Weather  \n",
       "0             NaN   NaN        NaN         NaN              NaN      NaN  \n",
       "1             NaN   NaN        NaN         NaN              NaN      NaN  \n",
       "2             NaN   NaN        NaN         NaN              NaN      NaN  \n",
       "3             NaN   NaN        NaN         NaN              NaN      NaN  \n",
       "4             NaN   NaN        NaN         NaN              NaN      NaN  \n",
       "\n",
       "[5 rows x 30 columns]"
      ]
     },
     "execution_count": 9,
     "metadata": {},
     "output_type": "execute_result"
    }
   ],
   "source": [
    "# Pandas has more error handling capabilties, and is able to to also automatically \n",
    "# detect the data type (int, float, date, etc) in each column.  Note, not all date \n",
    "# conversions are correct, so you may need to do that yourself.\n",
    "import pandas as pd\n",
    "\n",
    "file = pd.read_csv('en_climate_hourly_AB_3031094_09-2023_P1H.csv')\n",
    "\n",
    "# Let's look at the first 5 rows\n",
    "file.head()"
   ]
  },
  {
   "cell_type": "markdown",
   "metadata": {},
   "source": [
    "## Plotting data\n",
    "\n",
    "`matplotlib` is an excellent library to use to plot data.  Other libraries (like `plotly` utilize `matplotlib` or use similar commands)"
   ]
  },
  {
   "cell_type": "code",
   "execution_count": 10,
   "metadata": {},
   "outputs": [
    {
     "data": {
      "image/png": "[encoded data removed]",
      "text/plain": [
       "<Figure size 640x480 with 1 Axes>"
      ]
     },
     "metadata": {},
     "output_type": "display_data"
    }
   ],
   "source": [
    "# First, import the library\n",
    "import matplotlib.pyplot as plt\n",
    "\n",
    "# Let's plot temperature vs date\n",
    "plt.plot(file['Date/Time (LST)'], file['Temp (°C)'])\n",
    "plt.xlabel('Time')\n",
    "plt.ylabel('Temperature (C)')\n",
    "plt.show()"
   ]
  },
  {
   "cell_type": "code",
   "execution_count": null,
   "metadata": {},
   "outputs": [
    {
     "data": {
      "text/plain": [
       "41"
      ]
     },
     "execution_count": 12,
     "metadata": {},
     "output_type": "execute_result"
    }
   ],
   "source": [
    "## writing data to a file\n",
    "\n",
    "# step 1: open the file\n",
    "\n",
    "fileh = open('writingdata.txt', 'w')\n",
    "\n",
    "fileh.write('This is some test data \\n on a line line \\n')"
   ]
  },
  {
   "cell_type": "code",
   "execution_count": null,
   "metadata": {},
   "outputs": [],
   "source": [
    "# always close a file!\n",
    "\n",
    "fileh.close()"
   ]
  },
  {
   "cell_type": "code",
   "execution_count": null,
   "metadata": {},
   "outputs": [
    {
     "name": "stdout",
     "output_type": "stream",
     "text": [
      "And some more data\n"
     ]
    }
   ],
   "source": [
    "## Searching for data\n",
    "\n",
    "\n",
    "texttofind = 'data'\n",
    "with open('textdata.txt', 'r') as file:\n",
    "\n",
    "    for line in file:\n",
    "        if texttofind in line:\n",
    "            print(line)"
   ]
  },
  {
   "cell_type": "code",
   "execution_count": null,
   "metadata": {},
   "outputs": [],
   "source": []
  }
 ],
 "metadata": {
  "kernelspec": {
   "display_name": "base",
   "language": "python",
   "name": "python3"
  },
  "language_info": {
   "codemirror_mode": {
    "name": "ipython",
    "version": 3
   },
   "file_extension": ".py",
   "mimetype": "text/x-python",
   "name": "python",
   "nbconvert_exporter": "python",
   "pygments_lexer": "ipython3",
   "version": "3.11.4"
  },
  "orig_nbformat": 4
 },
 "nbformat": 4,
 "nbformat_minor": 2
}
